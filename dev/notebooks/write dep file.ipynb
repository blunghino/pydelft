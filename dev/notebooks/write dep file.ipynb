{
 "metadata": {
  "name": "",
  "signature": "sha256:cf5fbbe0507dc57ffeab3cf069497221f53cde5b38d265b9966fdb6adb0733ca"
 },
 "nbformat": 3,
 "nbformat_minor": 0,
 "worksheets": [
  {
   "cells": [
    {
     "cell_type": "code",
     "collapsed": false,
     "input": [
      "% matplotlib inline\n",
      "import numpy as np\n",
      "from PyQt4 import QtGui\n",
      "import sys\n",
      "import os\n",
      "import matplotlib.pyplot as plt\n",
      "import mpl_toolkits.basemap.pyproj as pyproj\n",
      "from pydelft import grd, dep\n",
      "import datetime\n",
      "import math"
     ],
     "language": "python",
     "metadata": {},
     "outputs": [],
     "prompt_number": 1
    },
    {
     "cell_type": "markdown",
     "metadata": {},
     "source": [
      "<h3>load a grid </h3>"
     ]
    },
    {
     "cell_type": "code",
     "collapsed": false,
     "input": [
      "grid = grd.grd()\n",
      "grid.read_grd(r'/Users/spmls/GitHub/pydelft/dev/test_data/test.grd')\n",
      "print('m: %s\\nn: %s' % (grid.m, grid.n))"
     ],
     "language": "python",
     "metadata": {},
     "outputs": [
      {
       "output_type": "stream",
       "stream": "stdout",
       "text": [
        "m: 11\n",
        "n: 11\n"
       ]
      }
     ],
     "prompt_number": 2
    },
    {
     "cell_type": "markdown",
     "metadata": {},
     "source": [
      "<h3>load a depth file</h3>"
     ]
    },
    {
     "cell_type": "code",
     "collapsed": false,
     "input": [
      "depth = dep.dep()\n",
      "depth.read_dep(r'/Users/spmls/GitHub/pydelft/dev/test_data/test.dep')\n",
      "print('depth shape: (%s, %s)' % (np.shape(depth.depth)[0], np.shape(depth.depth)[1]))"
     ],
     "language": "python",
     "metadata": {},
     "outputs": [
      {
       "output_type": "stream",
       "stream": "stdout",
       "text": [
        "depth shape: (11, 11)\n"
       ]
      }
     ],
     "prompt_number": 3
    },
    {
     "cell_type": "markdown",
     "metadata": {},
     "source": [
      "<h3>plot</h3>"
     ]
    },
    {
     "cell_type": "code",
     "collapsed": false,
     "input": [
      "plt.pcolormesh(grid.x, grid.y, depth.depth)"
     ],
     "language": "python",
     "metadata": {},
     "outputs": [
      {
       "metadata": {},
       "output_type": "pyout",
       "prompt_number": 4,
       "text": [
        "<matplotlib.collections.QuadMesh at 0x10c9374a8>"
       ]
      },
      {
       "metadata": {},
       "output_type": "display_data",
       "png": "[encoded data removed]",
       "text": [
        "<matplotlib.figure.Figure at 0x10629cf98>"
       ]
      }
     ],
     "prompt_number": 4
    },
    {
     "cell_type": "markdown",
     "metadata": {},
     "source": [
      "<h3>create a depth file that plots on the grid shown above<h3>"
     ]
    },
    {
     "cell_type": "code",
     "collapsed": false,
     "input": [
      "Z = np.random.rand(grid.m, grid.n)\n",
      "\n",
      "Z = np.array([np.append(i,-999.) for i in Z])\n",
      "Z = np.insert(Z,-1,np.ones(np.shape(Z[0]))*-999.)\n",
      "Z = Z.reshape((grid.m+1, grid.n+1))\n",
      "\n",
      "np.savetxt(r'/Users/spmls/GitHub/pydelft/dev/test_data/random_test.dep', Z, delimiter = '\\t', fmt = '%.3f')"
     ],
     "language": "python",
     "metadata": {},
     "outputs": [],
     "prompt_number": 5
    },
    {
     "cell_type": "markdown",
     "metadata": {},
     "source": [
      "<h3>load the depth file that was created</h3>"
     ]
    },
    {
     "cell_type": "code",
     "collapsed": false,
     "input": [
      "depth2 = dep.dep()\n",
      "depth2.read_dep(r'/Users/spmls/GitHub/pydelft/dev/test_data/random_test.dep')\n",
      "\n",
      "plt.pcolormesh(grid.x,grid.y,depth2.depth)"
     ],
     "language": "python",
     "metadata": {},
     "outputs": [
      {
       "metadata": {},
       "output_type": "pyout",
       "prompt_number": 6,
       "text": [
        "<matplotlib.collections.QuadMesh at 0x10ca700f0>"
       ]
      },
      {
       "metadata": {},
       "output_type": "display_data",
       "png": "[encoded data removed]",
       "text": [
        "<matplotlib.figure.Figure at 0x10c983e10>"
       ]
      }
     ],
     "prompt_number": 6
    },
    {
     "cell_type": "markdown",
     "metadata": {},
     "source": [
      "<h3>test the pydelft function</h3>"
     ]
    },
    {
     "cell_type": "code",
     "collapsed": false,
     "input": [
      "Z = np.random.rand(grid.m, grid.n)\n",
      "depth3 = dep.dep()\n",
      "depth3.write_dep(Z, fname = r'/Users/spmls/GitHub/pydelft/dev/test_data/test2.dep', grid_fname = grid.filename)\n",
      "plt.pcolormesh(grid.x, grid.y, depth3.depth)"
     ],
     "language": "python",
     "metadata": {},
     "outputs": [
      {
       "output_type": "stream",
       "stream": "stdout",
       "text": [
        "saved depth file: test2.dep\n"
       ]
      },
      {
       "metadata": {},
       "output_type": "pyout",
       "prompt_number": 7,
       "text": [
        "<matplotlib.collections.QuadMesh at 0x10cacd9e8>"
       ]
      },
      {
       "metadata": {},
       "output_type": "display_data",
       "png": "[encoded data removed]",
       "text": [
        "<matplotlib.figure.Figure at 0x10ca76588>"
       ]
      }
     ],
     "prompt_number": 7
    },
    {
     "cell_type": "markdown",
     "metadata": {},
     "source": [
      "<h3>test without a grid already made</h3>"
     ]
    },
    {
     "cell_type": "code",
     "collapsed": false,
     "input": [
      "Z = np.random.rand(15,4)\n",
      "depth4 = dep.dep()\n",
      "depth4.write_dep(Z, fname = r'/Users/spmls/GitHub/pydelft/dev/test_data/test4.dep')"
     ],
     "language": "python",
     "metadata": {},
     "outputs": [
      {
       "output_type": "stream",
       "stream": "stdout",
       "text": [
        "saved depth file: test4.dep\n"
       ]
      }
     ],
     "prompt_number": 8
    },
    {
     "cell_type": "markdown",
     "metadata": {},
     "source": [
      "<h3>make a grid for the above depth file</h3>"
     ]
    },
    {
     "cell_type": "code",
     "collapsed": false,
     "input": [
      "coord_system = 'Cartesian'\n",
      "m = 15\n",
      "n = 4\n",
      "cellsize = 10\n",
      "x0 = 0\n",
      "y0 = 0\n",
      "\n",
      "records = []\n",
      "rows = math.floor(n/5)\n",
      "remainder = n%5\n",
      "\n",
      "records.append('* \\n* Delft3d- rectilinear grid file created with pydelft \\n* File creation date: %s\\n* \\n' \\\n",
      "%str(datetime.datetime.now()))\n",
      "records.append('Coordinate System = %s\\n' % coord_system)\n",
      "records.append('\\t%i\\t%i\\n' % (n,m))\n",
      "records.append('0 0 0\\n')\n",
      "\n",
      "# Values for x\n",
      "for i in range(1,m+1):\n",
      "    etax = np.arange(x0, n*cellsize, cellsize)\n",
      "\n",
      "    if n > 5:\n",
      "        etax_1 = etax[0:5]\n",
      "        records.append('ETA=\\t%i\\t%.20e\\t%.20e\\t%.20e\\t%.20e\\t%.20e\\n' %(i, \n",
      "                                                                         etax_1[0], \n",
      "                                                                         etax_1[1], \n",
      "                                                                         etax_1[2], \n",
      "                                                                         etax_1[3],\n",
      "                                                                         etax_1[4]))\n",
      "        etax_mid = etax[5:-remainder]\n",
      "        for k in np.arange(0,np.size(etax_mid), 5):\n",
      "            records.append('      \\t\\t%.20e\\t%.20e\\t%.20e\\t%.20e\\t%.20e\\n' % (etax_mid[k],\n",
      "                                                                              etax_mid[k+1],\n",
      "                                                                              etax_mid[k+2],\n",
      "                                                                              etax_mid[k+3],\n",
      "                                                                              etax_mid[k+4]))\n",
      "        etax_last = etax[-remainder:]\n",
      "        records.append('      \\t\\t%.20e' % etax_last[0])\n",
      "        for i in etax_last[1:]:\n",
      "            records.append('\\t%.20e' %i)\n",
      "        records.append('\\n')\n",
      "    elif n <= 5:\n",
      "        etax_1 = etax\n",
      "        records.append('ETA=\\t%i' % i)\n",
      "        for i in etax_1:\n",
      "            records.append('\\t%.20e' % i)\n",
      "        records.append('\\n')\n",
      "\n",
      "# Values for y\n",
      "y = np.arange(y0, m*cellsize, cellsize)\n",
      "for j in range(1,m+1):\n",
      "    if n > 5:\n",
      "        etay = np.ones((n,1))*y[j-1]\n",
      "        etay_1 = etay[0:5]\n",
      "        records.append('ETA=\\t%i\\t%.20e\\t%.20e\\t%.20e\\t%.20e\\t%.20e\\n' %(j, \n",
      "                                                                    etay_1[0], etay_1[1],\n",
      "                                                                    etay_1[2], etay_1[3],\n",
      "                                                                    etay_1[4]))\n",
      "        etay_mid = etay[5:-remainder]\n",
      "        for k in np.arange(0,np.size(etay_mid), 5):\n",
      "            records.append('      \\t\\t%.20e\\t%.20e\\t%.20e\\t%.20e\\t%.20e\\n' % (etay_mid[k],\n",
      "                                                                            etay_mid[k+1],\n",
      "                                                                            etay_mid[k+2],\n",
      "                                                                            etay_mid[k+3],\n",
      "                                                                            etay_mid[k+4]))\n",
      "        etay_last = etay[-remainder:]\n",
      "        records.append('      \\t\\t%.20e' % etay_last[0])\n",
      "        for e in etay_last[1:]:\n",
      "            records.append('\\t%.20e' %e)\n",
      "        records.append('\\n')\n",
      "    elif n <= 5:\n",
      "        etay = np.ones((n,1))*y[j-1]\n",
      "        etay_1 = etay\n",
      "        records.append('ETA=\\t%i' % j)\n",
      "        for e in etay_1:\n",
      "            records.append('\\t%.20e' % e)\n",
      "        records.append('\\n')\n",
      "\n",
      "#Write to file\n",
      "grd_fname = r'/Users/spmls/GitHub/pydelft/dev/test_data/write_rect_test.grd'\n",
      "f = open(grd_fname, 'w')\n",
      "for r in records:\n",
      "    f.write(r)\n",
      "f.close()\n",
      "\n",
      "#print(records)"
     ],
     "language": "python",
     "metadata": {},
     "outputs": [],
     "prompt_number": 9
    },
    {
     "cell_type": "markdown",
     "metadata": {},
     "source": [
      "<h3>load grid and see if it works with depth file</h3>"
     ]
    },
    {
     "cell_type": "code",
     "collapsed": false,
     "input": [
      "grid = grd.grd()\n",
      "grid.read_grd(grd_fname)\n",
      "depth = dep.dep()\n",
      "depth.read_dep(r'/Users/spmls/GitHub/pydelft/dev/test_data/test4.dep')\n",
      "\n",
      "plt.pcolormesh(grid.x,grid.y,depth.depth)"
     ],
     "language": "python",
     "metadata": {},
     "outputs": [
      {
       "metadata": {},
       "output_type": "pyout",
       "prompt_number": 10,
       "text": [
        "<matplotlib.collections.QuadMesh at 0x10cbf60f0>"
       ]
      },
      {
       "metadata": {},
       "output_type": "display_data",
       "png": "[encoded data removed]",
       "text": [
        "<matplotlib.figure.Figure at 0x10c90bc50>"
       ]
      }
     ],
     "prompt_number": 10
    },
    {
     "cell_type": "markdown",
     "metadata": {},
     "source": [
      "<h3>test in pydelft now </h3>"
     ]
    },
    {
     "cell_type": "code",
     "collapsed": false,
     "input": [
      "m, n = 24, 14\n",
      "Z = np.random.rand(m,n)\n",
      "depth4 = dep.dep()\n",
      "depth4.write_dep(Z, fname = r'/Users/spmls/GitHub/pydelft/dev/test_data/test_rectgrd.dep')\n",
      "grid = grd.grd()\n",
      "grid.write_rectgrd(fname = r'/Users/spmls/GitHub/pydelft/dev/test_data/test_rectgrd.grd', m = m, n = n, cellsize = 10,\n",
      "                   x0 = 0, y0 = 0)\n",
      "\n",
      "plt.pcolormesh(grid.x, grid.y, depth4.depth)"
     ],
     "language": "python",
     "metadata": {},
     "outputs": [
      {
       "output_type": "stream",
       "stream": "stdout",
       "text": [
        "saved depth file: test_rectgrd.dep\n"
       ]
      },
      {
       "metadata": {},
       "output_type": "pyout",
       "prompt_number": 15,
       "text": [
        "<matplotlib.collections.QuadMesh at 0x10ce29320>"
       ]
      },
      {
       "metadata": {},
       "output_type": "display_data",
       "png": "[encoded data removed]",
       "text": [
        "<matplotlib.figure.Figure at 0x10cb657b8>"
       ]
      }
     ],
     "prompt_number": 15
    },
    {
     "cell_type": "code",
     "collapsed": false,
     "input": [],
     "language": "python",
     "metadata": {},
     "outputs": [],
     "prompt_number": 12
    }
   ],
   "metadata": {}
  }
 ]
}