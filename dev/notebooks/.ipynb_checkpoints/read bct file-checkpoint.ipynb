{
 "metadata": {
  "name": ""
 },
 "nbformat": 3,
 "nbformat_minor": 0,
 "worksheets": [
  {
   "cells": [
    {
     "cell_type": "code",
     "collapsed": false,
     "input": [
      "import numpy as np\n",
      "from pydelft.grd import grd\n",
      "from pydelft.bnd import bnd\n",
      "from pydelft.bct import bct\n",
      "from PyQt4 import QtGui\n",
      "import sys\n",
      "import os\n",
      "import pandas as pd\n",
      "import linecache"
     ],
     "language": "python",
     "metadata": {},
     "outputs": [],
     "prompt_number": 93
    },
    {
     "cell_type": "code",
     "collapsed": false,
     "input": [
      "b = bct(fname=r'i:\\Japan\\Data\\Sendai\\T3\\create_riemann\\testing\\run7\\natori_10_v2.bct')\n",
      "b.filename"
     ],
     "language": "python",
     "metadata": {},
     "outputs": [
      {
       "metadata": {},
       "output_type": "pyout",
       "prompt_number": 2,
       "text": [
        "'i:\\\\Japan\\\\Data\\\\Sendai\\\\T3\\\\create_riemann\\\\testing\\\\run7\\\\natori_10_v2.bct'"
       ]
      }
     ],
     "prompt_number": 2
    },
    {
     "cell_type": "code",
     "collapsed": false,
     "input": [
      "f = open(b.filename,'r')\n",
      "names = []\n",
      "contents = []\n",
      "locations = []\n",
      "timefunctions = []\n",
      "referencetimes = []\n",
      "timeunits = []\n",
      "interpolations = []\n",
      "parameters = []\n",
      "records = []\n",
      "data = []\n",
      "\n",
      "i = 0\n",
      "while\n",
      "for i, line in enumerate(f):\n",
      "    if 'table-name' in line:\n",
      "        names.append(line.split(\"'\")[1])\n",
      "    elif 'contents' in line:\n",
      "        contents.append(line.split(\"'\")[1])\n",
      "    elif 'location' in line:\n",
      "        locations.append(line.split(\"'\")[1])\n",
      "    elif 'time-function' in line:\n",
      "        timefunctions.append(line.split(\"'\")[1])\n",
      "    elif 'reference-time' in line:\n",
      "        referencetimes.append(int(line.split()[1]))\n",
      "    elif 'time-unit' in line:\n",
      "        timeunits.append(line.split(\"'\")[1])\n",
      "    elif 'interpolation' in line:\n",
      "        interpolations.append(line.split(\"'\")[1])\n",
      "    elif 'parameter' in line:\n",
      "        parameters.append([line.split(\"'\")[1], line.split(\"'\")[3]])\n",
      "    elif 'records-in-table' in line:\n",
      "        records.append(int(line.split()[1]))\n",
      "    else:\n",
      "        break   \n",
      "        \n",
      "bcts = []    \n",
      "for line in range(i+1,i+1+records[0]):\n",
      "        time_1_2 = linecache.getline(b.filename, line).split()\n",
      "        bcts.append((float(time_1_2[0]),float(time_1_2[1]),\n",
      "                     float(time_1_2[2])))\n",
      "data.append(np.array(bcts).T)\n",
      "\n",
      "i = line+1\n",
      "\n",
      "f.close()"
     ],
     "language": "python",
     "metadata": {},
     "outputs": [],
     "prompt_number": 110
    },
    {
     "cell_type": "code",
     "collapsed": false,
     "input": [
      "i"
     ],
     "language": "python",
     "metadata": {},
     "outputs": [
      {
       "metadata": {},
       "output_type": "pyout",
       "prompt_number": 112,
       "text": [
        "14"
       ]
      }
     ],
     "prompt_number": 112
    },
    {
     "cell_type": "code",
     "collapsed": false,
     "input": [
      "linecache.getline(b.filename, i+1).split()"
     ],
     "language": "python",
     "metadata": {},
     "outputs": [
      {
       "metadata": {},
       "output_type": "pyout",
       "prompt_number": 92,
       "text": [
        "['0.00', '0.00000e+00', '0.00000e+00']"
       ]
      }
     ],
     "prompt_number": 92
    },
    {
     "cell_type": "code",
     "collapsed": false,
     "input": [],
     "language": "python",
     "metadata": {},
     "outputs": []
    }
   ],
   "metadata": {}
  }
 ]
}