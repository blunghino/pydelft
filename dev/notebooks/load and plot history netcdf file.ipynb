{
 "metadata": {
  "name": ""
 },
 "nbformat": 3,
 "nbformat_minor": 0,
 "worksheets": [
  {
   "cells": [
    {
     "cell_type": "code",
     "collapsed": false,
     "input": [
      "import numpy as np\n",
      "from netCDF4 import Dataset as NetCDFFile\n",
      "from PyQt4 import QtGui\n",
      "import arrow\n",
      "import os\n",
      "import sys\n",
      "\n",
      "import matplotlib.pyplot as plt"
     ],
     "language": "python",
     "metadata": {},
     "outputs": [],
     "prompt_number": 1
    },
    {
     "cell_type": "heading",
     "level": 1,
     "metadata": {},
     "source": [
      "Purpose"
     ]
    },
    {
     "cell_type": "markdown",
     "metadata": {},
     "source": [
      "October 7, 2014\n",
      "SeanPaul La Selle\n",
      "\n",
      "To write a python script that can load a Delft3d FLOW history file (in netcdf format).  I assume the file has been converted from a NEFIS history file using vs_trih2nc() in matlab. Hopefully someone finishes python wrappers for interacting directly with NEFIS files in the near future.."
     ]
    },
    {
     "cell_type": "code",
     "collapsed": false,
     "input": [
      "class ncFileDialog(QtGui.QMainWindow):\n",
      "    '''A file dialog for opening Delft3d FLOW history files in netcdf format.\n",
      "    Assumes that the netcdf file was converted in matlab from a NEFIS file using\n",
      "    vs_trih2nc, which is why the file dialog prompts for .nc files with 'his' in \n",
      "    the filename.  This class is called in __init__ in the 'obs' class.'''\n",
      "    def __init__(self):\n",
      "        super(ncFileDialog, self).__init__()\n",
      "        fname = []\n",
      "        self.initUI()\n",
      "    def initUI(self):\n",
      "        self.setGeometry(300,300,350,300)\n",
      "        self.setWindowTitle('Open netcdf history file')\n",
      "        self.openfileDialog()\n",
      "    def openfileDialog(self):\n",
      "        fname = QtGui.QFileDialog.getOpenFileName(self, \n",
      "                                                  'Open netcdf history file',\n",
      "                                                  os.getcwd(),\n",
      "                                                  \"netcdf (*his*.nc);; all (*)\")\n",
      "        self.fname = fname"
     ],
     "language": "python",
     "metadata": {},
     "outputs": [],
     "prompt_number": 2
    },
    {
     "cell_type": "code",
     "collapsed": false,
     "input": [
      "class his():\n",
      "    '''Loads data from a netcdf file that was converted from a NEFIS history file.'''\n",
      "    def __init__(self, fname=None):\n",
      "        self.read_his_nc(fname)\n",
      "        \n",
      "    def read_his_nc(self, fname=None):\n",
      "        # Set filename via GUI if it's not specified.\n",
      "        if not fname:\n",
      "            app = QtGui.QApplication(sys.argv)\n",
      "            filedialog = ncFileDialog()\n",
      "            fname = filedialog.fname\n",
      "        ncFile = NetCDFFile(fname)\n",
      "        \n",
      "        #get times in unix epoch format (seconds since 01/01/1970)\n",
      "        self.times = np.array(ncFile.variables['time'])*24*60*60 \n",
      "        # get name of each obs station\n",
      "        self.obs = [''.join(i.astype(str)).strip() \n",
      "                    for i in np.array(ncFile.variables['platform_name'])]\n",
      "        for idx, obs in enumerate(self.obs):\n",
      "            if obs[0].isdigit():\n",
      "                obs_str = \"_\" + obs\n",
      "            d = {}\n",
      "            for i in ncFile.variables:\n",
      "                if i == 'platform_name':\n",
      "                    d['name'] = obs\n",
      "                elif i == 'platform_m_index':\n",
      "                    d['m'] = int(np.array(ncFile.variables[i])[idx])\n",
      "                elif i == 'platform_n_index':\n",
      "                    d['n'] = int(np.array(ncFile.variables[i])[idx])\n",
      "                else:\n",
      "                    array = np.array(ncFile.variables[i])\n",
      "                    shape = np.shape(array.shape)[0]\n",
      "                    if shape == 1:\n",
      "                        d[i] = array[idx]\n",
      "                    elif shape == 2:\n",
      "                        d[i] = array[:,idx]\n",
      "                    elif shape == 3:\n",
      "                        d[i] = array[:,idx,:]\n",
      "                    else:\n",
      "                        print(\"Error: variable '%s' shape not defined\" %i)\n",
      "                    \n",
      "            setattr(self,obs_str,d)\n",
      "        "
     ],
     "language": "python",
     "metadata": {},
     "outputs": [],
     "prompt_number": 16
    },
    {
     "cell_type": "code",
     "collapsed": false,
     "input": [
      "fname = r'I:\\\\Japan\\\\Data\\\\Sendai\\\\T3\\\\create_riemann\\\\testing\\\\run1\\natori_10_v1_his.nc'\n",
      "run1 = his(fname=fname)"
     ],
     "language": "python",
     "metadata": {},
     "outputs": [
      {
       "ename": "UnboundLocalError",
       "evalue": "local variable 'obs_str' referenced before assignment",
       "output_type": "pyerr",
       "traceback": [
        "\u001b[1;31m---------------------------------------------------------------------------\u001b[0m\n\u001b[1;31mUnboundLocalError\u001b[0m                         Traceback (most recent call last)",
        "\u001b[1;32m<ipython-input-17-57799ecd51cb>\u001b[0m in \u001b[0;36m<module>\u001b[1;34m()\u001b[0m\n\u001b[0;32m      1\u001b[0m \u001b[0mfname\u001b[0m \u001b[1;33m=\u001b[0m \u001b[1;34mr'I:\\\\Japan\\\\Data\\\\Sendai\\\\T3\\\\create_riemann\\\\testing\\\\run1\\natori_10_v1_his.nc'\u001b[0m\u001b[1;33m\u001b[0m\u001b[0m\n\u001b[1;32m----> 2\u001b[1;33m \u001b[0mrun1\u001b[0m \u001b[1;33m=\u001b[0m \u001b[0mhis\u001b[0m\u001b[1;33m(\u001b[0m\u001b[0mfname\u001b[0m\u001b[1;33m=\u001b[0m\u001b[0mfname\u001b[0m\u001b[1;33m)\u001b[0m\u001b[1;33m\u001b[0m\u001b[0m\n\u001b[0m",
        "\u001b[1;32m<ipython-input-16-2cafc60ca747>\u001b[0m in \u001b[0;36m__init__\u001b[1;34m(self, fname)\u001b[0m\n\u001b[0;32m      2\u001b[0m     \u001b[1;34m'''Loads data from a netcdf file that was converted from a NEFIS history file.'''\u001b[0m\u001b[1;33m\u001b[0m\u001b[0m\n\u001b[0;32m      3\u001b[0m     \u001b[1;32mdef\u001b[0m \u001b[0m__init__\u001b[0m\u001b[1;33m(\u001b[0m\u001b[0mself\u001b[0m\u001b[1;33m,\u001b[0m \u001b[0mfname\u001b[0m\u001b[1;33m=\u001b[0m\u001b[1;32mNone\u001b[0m\u001b[1;33m)\u001b[0m\u001b[1;33m:\u001b[0m\u001b[1;33m\u001b[0m\u001b[0m\n\u001b[1;32m----> 4\u001b[1;33m         \u001b[0mself\u001b[0m\u001b[1;33m.\u001b[0m\u001b[0mread_his_nc\u001b[0m\u001b[1;33m(\u001b[0m\u001b[0mfname\u001b[0m\u001b[1;33m)\u001b[0m\u001b[1;33m\u001b[0m\u001b[0m\n\u001b[0m\u001b[0;32m      5\u001b[0m \u001b[1;33m\u001b[0m\u001b[0m\n\u001b[0;32m      6\u001b[0m     \u001b[1;32mdef\u001b[0m \u001b[0mread_his_nc\u001b[0m\u001b[1;33m(\u001b[0m\u001b[0mself\u001b[0m\u001b[1;33m,\u001b[0m \u001b[0mfname\u001b[0m\u001b[1;33m=\u001b[0m\u001b[1;32mNone\u001b[0m\u001b[1;33m)\u001b[0m\u001b[1;33m:\u001b[0m\u001b[1;33m\u001b[0m\u001b[0m\n",
        "\u001b[1;32m<ipython-input-16-2cafc60ca747>\u001b[0m in \u001b[0;36mread_his_nc\u001b[1;34m(self, fname)\u001b[0m\n\u001b[0;32m     40\u001b[0m                         \u001b[0mprint\u001b[0m\u001b[1;33m(\u001b[0m\u001b[1;34m\"Error: variable '%s' shape not defined\"\u001b[0m \u001b[1;33m%\u001b[0m\u001b[0mi\u001b[0m\u001b[1;33m)\u001b[0m\u001b[1;33m\u001b[0m\u001b[0m\n\u001b[0;32m     41\u001b[0m \u001b[1;33m\u001b[0m\u001b[0m\n\u001b[1;32m---> 42\u001b[1;33m             \u001b[0msetattr\u001b[0m\u001b[1;33m(\u001b[0m\u001b[0mself\u001b[0m\u001b[1;33m,\u001b[0m\u001b[0mobs_str\u001b[0m\u001b[1;33m,\u001b[0m\u001b[0md\u001b[0m\u001b[1;33m)\u001b[0m\u001b[1;33m\u001b[0m\u001b[0m\n\u001b[0m\u001b[0;32m     43\u001b[0m \u001b[1;33m\u001b[0m\u001b[0m\n",
        "\u001b[1;31mUnboundLocalError\u001b[0m: local variable 'obs_str' referenced before assignment"
       ]
      }
     ],
     "prompt_number": 17
    },
    {
     "cell_type": "code",
     "collapsed": false,
     "input": [
      "plt.plot(test.times,test._100['waterlevel'],'k-')"
     ],
     "language": "python",
     "metadata": {},
     "outputs": [
      {
       "metadata": {},
       "output_type": "pyout",
       "prompt_number": 9,
       "text": [
        "[<matplotlib.lines.Line2D at 0xba38390>]"
       ]
      },
      {
       "metadata": {},
       "output_type": "display_data",
       "png": "[encoded data removed]",
       "text": [
        "<matplotlib.figure.Figure at 0x6b8cdd8>"
       ]
      }
     ],
     "prompt_number": 9
    },
    {
     "cell_type": "code",
     "collapsed": false,
     "input": [
      "[i for i in ncFile.variables]"
     ],
     "language": "python",
     "metadata": {},
     "outputs": [
      {
       "metadata": {},
       "output_type": "pyout",
       "prompt_number": 53,
       "text": [
        "['time',\n",
        " 'platform_name',\n",
        " 'platform_m_index',\n",
        " 'platform_n_index',\n",
        " 'platform_angle',\n",
        " 'x',\n",
        " 'y',\n",
        " 'Layer',\n",
        " 'LayerInterf',\n",
        " 'depth',\n",
        " 'waterlevel',\n",
        " 'mask',\n",
        " 'u_x',\n",
        " 'u_y',\n",
        " 'u_z',\n",
        " 'tau_x',\n",
        " 'tau_y',\n",
        " 'density',\n",
        " 'Sediment1',\n",
        " 'tke',\n",
        " 'eps',\n",
        " 'viscosity_z',\n",
        " 'diffusivity_z',\n",
        " 'Ri',\n",
        " 'morphological_depth',\n",
        " 'available_mass_of_sediment']"
       ]
      }
     ],
     "prompt_number": 53
    }
   ],
   "metadata": {}
  }
 ]
}